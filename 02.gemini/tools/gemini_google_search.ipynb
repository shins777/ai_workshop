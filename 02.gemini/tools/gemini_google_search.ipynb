{
 "cells": [
  {
   "cell_type": "markdown",
   "id": "ff2896f7",
   "metadata": {},
   "source": [
    "## Gemini Google Search Tool 사용"
   ]
  },
  {
   "cell_type": "markdown",
   "id": "ae5329d6",
   "metadata": {},
   "source": [
    "### 1. 라이브러리 설치"
   ]
  },
  {
   "cell_type": "code",
   "execution_count": 2,
   "id": "aa11966b",
   "metadata": {},
   "outputs": [],
   "source": [
    "!uv pip install --upgrade --quiet google-genai"
   ]
  },
  {
   "cell_type": "markdown",
   "id": "c5481f87",
   "metadata": {},
   "source": [
    "### 2. GCP 로그인"
   ]
  },
  {
   "cell_type": "code",
   "execution_count": 3,
   "id": "d5492f7d",
   "metadata": {},
   "outputs": [
    {
     "name": "stdout",
     "output_type": "stream",
     "text": [
      "Your browser has been opened to visit:\n",
      "\n",
      "    https://accounts.google.com/o/oauth2/auth?response_type=code&client_id=764086051850-6qr4p6gpi6hn506pt8ejuq83di341hur.apps.googleusercontent.com&redirect_uri=http%3A%2F%2Flocalhost%3A8085%2F&scope=openid+https%3A%2F%2Fwww.googleapis.com%2Fauth%2Fuserinfo.email+https%3A%2F%2Fwww.googleapis.com%2Fauth%2Fcloud-platform+https%3A%2F%2Fwww.googleapis.com%2Fauth%2Fsqlservice.login&state=gBLjCPQ0V1WIvRafuGWIWDuelgqCgo&access_type=offline&code_challenge=nBDKgJcnZlzL0dQgxuVOlqvAQT9gtZy3MEpzqO7uxss&code_challenge_method=S256\n",
      "\n",
      "\n",
      "Credentials saved to file: [/Users/hangsik/.config/gcloud/application_default_credentials.json]\n",
      "\n",
      "These credentials will be used by any library that requests Application Default Credentials (ADC).\n",
      "\n",
      "Quota project \"ai-hangsik\" was added to ADC which can be used by Google client libraries for billing and quota. Note that some services may still bill the project owning the resource.\n"
     ]
    }
   ],
   "source": [
    "!gcloud auth application-default login"
   ]
  },
  {
   "cell_type": "markdown",
   "id": "9046234b",
   "metadata": {},
   "source": [
    "### 3. Vertex AI 환경 설정"
   ]
  },
  {
   "cell_type": "code",
   "execution_count": 4,
   "id": "42330168",
   "metadata": {},
   "outputs": [
    {
     "name": "stdout",
     "output_type": "stream",
     "text": [
      "ai-hangsik global True\n"
     ]
    }
   ],
   "source": [
    "import os\n",
    "os.environ[\"GOOGLE_CLOUD_PROJECT\"] = \"ai-hangsik\"\n",
    "os.environ[\"GOOGLE_CLOUD_LOCATION\"] = \"global\"\n",
    "os.environ[\"GOOGLE_GENAI_USE_VERTEXAI\"] = \"True\"\n",
    "\n",
    "# 환경변수 설정 확인.\n",
    "!echo $GOOGLE_CLOUD_PROJECT $GOOGLE_CLOUD_LOCATION $GOOGLE_GENAI_USE_VERTEXAI"
   ]
  },
  {
   "cell_type": "markdown",
   "id": "16931ef0",
   "metadata": {},
   "source": [
    "### 3. Gemini 실행"
   ]
  },
  {
   "cell_type": "code",
   "execution_count": 7,
   "id": "3130b3eb",
   "metadata": {},
   "outputs": [
    {
     "data": {
      "text/markdown": [
       "최근 발표된 자료에 따르면, 한국의 주택시장은 지역별 양극화 현상이 뚜렷하며, 정부는 주택 공급 확대와 가계 부채 관리에 중점을 둔 정책을 추진하고 있습니다.\n",
       "\n",
       "**최신 한국 주택시장 동향**\n",
       "\n",
       "*   **전반적인 시장 흐름:** 2024년 한국 주택 매매가격은 전국적으로 연간 0.2% 하락했으나, 시장 방향성에 대한 혼란이 있었습니다. 연초 하락세를 보이던 매매가격은 2분기 이후 서울 및 수도권 일부 지역을 중심으로 가파르게 상승했다가, 9월 이후 정부의 가계 부채 관리 강화로 상승세가 둔화되었습니다.\n",
       "*   **지역별 양극화:** 주택시장 회복세는 주로 수도권, 특히 서울을 중심으로 나타나고 있습니다. 2024년 5월 서울 지역의 월간 주택매매가 상승률이 확대된 반면, 인천과 경기 지역은 등락폭 변화가 없었습니다. 이러한 지역별 양극화 현상은 당분간 유지될 것으로 전망됩니다.\n",
       "*   **거래량 및 주택 유형:** 2024년 주택거래량은 전년 대비 약 13% 증가했지만, 여전히 최근 5년간 평균에는 미치지 못하는 수준입니다. 주택 거래의 대부분(약 80.3%)이 아파트에 집중되는 '아파트 쏠림 현상'이 나타나고 있습니다.\n",
       "*   **전세시장 동향:** 전세시장은 2025년 초까지 상승세를 유지할 것으로 예상되나, 이후 상승폭이 조정될 가능성이 있습니다. 월세가격은 당분간 상승세를 유지할 전망입니다. 그러나 수도권 아파트의 경우 전세자금 대출 금리 인상으로 인한 역전세난 가능성도 상존합니다. 2022년 하반기부터 이어진 '전세사기' 여파로 비아파트 기피 현상이 이어지고 있습니다.\n",
       "*   **2025년 전망:** 2025년 주택시장은 하향 안정될 것으로 예상되며, 정부 정책이 주요 변수가 될 것입니다. 공사비 증가와 부동산 프로젝트파이낸싱(PF) 시장 경색으로 민간 공급이 제한적인 상황에서 3기 신도시 등 공공 주도의 공급이 시장에 미치는 영향이 클 수 있습니다.\n",
       "\n",
       "**정부의 주택시장 정책**\n",
       "\n",
       "정부는 주택 공급 확대와 가계 부채 관리를 2025년 주요 주택 정책 방향으로 설정하고 있습니다.\n",
       "\n",
       "*   **주택 공급 확대:**\n",
       "    *   **공급 목표:** 2025년에 공공과 민간을 포함하여 13만 8천 호의 주택 착공을 목표로 하고 있습니다.\n",
       "    *   **공공 주도 공급:** 2025년 역대 최대 규모인 25만 2천 호의 공공주택을 신속하게 공급할 계획이며, 이 중 14만 호는 인허가, 7만 4천 호는 착공을 목표로 합니다.\n",
       "    *   **신규 택지 지정:** 수도권에 신규 택지 3만 호를 2025년 상반기 중 발표할 예정입니다.\n",
       "    *   **정비사업 활성화:** 재건축 진단 및 재개발 요건 등 규제를 개선하고, 노후 주택 개량을 위한 리모델링 제도 개선도 추진합니다.\n",
       "    *   **사업 지원:** 인허가 지원센터를 설치하여 지자체의 신속한 사업 승인을 지원하고, 건설사 선분양 제한 등 규제 완화도 검토됩니다.\n",
       "*   **가계 부채 관리 및 대출 규제:**\n",
       "    *   **대출 규제 강화:** 최근 6.27 대출 규제(수도권 주택담보대출 한도 6억 원 제한)를 통해 부동산 시장의 관망세가 짙어졌습니다. 정부는 3단계 스트레스 DSR(총부채원리금상환비율) 시행을 앞두고 있으며, 다주택자 대상 대출 자제 및 40~50년 만기 주택담보대출 축소 검토를 금융권에 지시했습니다.\n",
       "    *   **추가 규제 가능성:** 집값이 진정되지 않을 경우, 전세자금대출을 DSR 규제에 포함하거나, 토지거래허가구역 및 조정대상지역 등 규제 지역을 확대하는 방안도 거론되고 있습니다. 다만, 금융당국은 현재 추가 부동산 규제가 확정된 바 없다고 밝히고 있습니다.\n",
       "    *   **중도상환수수료 인하:** 2025년 1월부터 주요 시중은행의 주택담보대출 및 신용대출 중도상환수수료가 절반 수준으로 인하될 예정입니다.\n",
       "\n",
       "윤석열 정부는 출범 이후 매년 주택 공급 확대 및 활성화를 위한 정책을 발표해왔으며, 2024년 1.10 대책에서는 비아파트 부문의 규제 완화와 노후계획도시 관련 정책을 포함했습니다."
      ],
      "text/plain": [
       "<IPython.core.display.Markdown object>"
      ]
     },
     "metadata": {},
     "output_type": "display_data"
    }
   ],
   "source": [
    "from google import genai\n",
    "from google.genai.types import (\n",
    "    GenerateContentConfig,\n",
    "    GoogleSearch,\n",
    "    HttpOptions,\n",
    "    Tool,\n",
    ")\n",
    "from IPython.display import display, Markdown\n",
    "\n",
    "client = genai.Client(http_options=HttpOptions(api_version=\"v1\"))\n",
    "\n",
    "response = client.models.generate_content(\n",
    "    model=\"gemini-2.5-flash\",\n",
    "    contents=\"최근 발표된 한국의 주택시장에 대한 최신 정보와 정부의 정책에 대해 알려주세요.\",\n",
    "    config=GenerateContentConfig(\n",
    "        tools=[\n",
    "            Tool(google_search=GoogleSearch())\n",
    "        ],\n",
    "    ),\n",
    ")\n",
    "\n",
    "display(Markdown(response.text))"
   ]
  }
 ],
 "metadata": {
  "kernelspec": {
   "display_name": "Python 3",
   "language": "python",
   "name": "python3"
  },
  "language_info": {
   "codemirror_mode": {
    "name": "ipython",
    "version": 3
   },
   "file_extension": ".py",
   "mimetype": "text/x-python",
   "name": "python",
   "nbconvert_exporter": "python",
   "pygments_lexer": "ipython3",
   "version": "3.13.0"
  }
 },
 "nbformat": 4,
 "nbformat_minor": 5
}
