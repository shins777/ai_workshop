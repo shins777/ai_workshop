{
 "cells": [
  {
   "cell_type": "markdown",
   "id": "ff2896f7",
   "metadata": {},
   "source": [
    "## Gemini 기본 처리"
   ]
  },
  {
   "cell_type": "markdown",
   "id": "ae5329d6",
   "metadata": {},
   "source": [
    "### 1. 라이브러리 설치"
   ]
  },
  {
   "cell_type": "code",
   "execution_count": null,
   "id": "aa11966b",
   "metadata": {},
   "outputs": [],
   "source": [
    "!uv pip install --upgrade --quiet google-genai"
   ]
  },
  {
   "cell_type": "markdown",
   "id": "c5481f87",
   "metadata": {},
   "source": [
    "### 2. GCP 로그인"
   ]
  },
  {
   "cell_type": "code",
   "execution_count": null,
   "id": "d5492f7d",
   "metadata": {},
   "outputs": [],
   "source": [
    "!gcloud auth application-default login"
   ]
  },
  {
   "cell_type": "markdown",
   "id": "9046234b",
   "metadata": {},
   "source": [
    "### 3. Vertex AI 환경 설정"
   ]
  },
  {
   "cell_type": "code",
   "execution_count": 7,
   "id": "42330168",
   "metadata": {},
   "outputs": [
    {
     "name": "stdout",
     "output_type": "stream",
     "text": [
      "ai-hangsik global True\n"
     ]
    }
   ],
   "source": [
    "import os\n",
    "os.environ[\"GOOGLE_CLOUD_PROJECT\"] = \"ai-hangsik\"\n",
    "os.environ[\"GOOGLE_CLOUD_LOCATION\"] = \"global\"\n",
    "os.environ[\"GOOGLE_GENAI_USE_VERTEXAI\"] = \"True\"\n",
    "\n",
    "# 환경변수 설정 확인.\n",
    "!echo $GOOGLE_CLOUD_PROJECT $GOOGLE_CLOUD_LOCATION $GOOGLE_GENAI_USE_VERTEXAI"
   ]
  },
  {
   "cell_type": "markdown",
   "id": "16931ef0",
   "metadata": {},
   "source": [
    "### 3. Gemini 실행"
   ]
  },
  {
   "cell_type": "markdown",
   "id": "15079024",
   "metadata": {},
   "source": [
    "#### 3.1 Text 입력"
   ]
  },
  {
   "cell_type": "code",
   "execution_count": 12,
   "id": "3130b3eb",
   "metadata": {},
   "outputs": [
    {
     "data": {
      "text/markdown": [
       "생성형 AI(Generative AI)는 **새로운 콘텐츠를 만들어내는 능력**을 가진 인공지능입니다.\n",
       "\n",
       "쉽게 말해, 기존에 가지고 있던 **데이터(텍스트, 이미지, 오디오 등)를 학습**하여, 그 데이터의 **패턴과 특징을 스스로 이해**합니다. 그리고 이렇게 학습하고 이해한 내용을 바탕으로 **세상에 없던 새로운 결과물을 생성**해내는 것이죠.\n",
       "\n",
       "마치 화가가 수많은 그림들을 보고 그림의 특징을 학습한 뒤, 자신만의 새로운 그림을 그려내는 것과 비슷합니다.\n",
       "\n",
       "**핵심 특징:**\n",
       "\n",
       "*   **창조 능력:** 단순히 정보를 분류하거나 예측하는 것을 넘어, 무언가를 '창조'합니다.\n",
       "*   **다양한 형태:** 글, 이미지, 음악, 목소리, 영상 심지어 컴퓨터 코드 등 다양한 형태의 콘텐츠를 생성할 수 있습니다.\n",
       "*   **패턴 학습:** 방대한 데이터 속에서 숨겨진 패턴과 규칙을 찾아내고, 이를 모방하여 새로운 것을 만듭니다.\n",
       "\n",
       "**예시:**\n",
       "\n",
       "*   **글:** 주어진 주제나 키워드로 소설, 시, 보고서, 이메일 등을 작성. (예: ChatGPT)\n",
       "*   **이미지:** 텍스트 설명에 맞는 그림이나 사진을 생성. (예: DALL-E, Midjourney)\n",
       "*   **음악:** 특정 분위기나 장르에 맞는 새로운 곡을 작곡.\n",
       "*   **코드:** 원하는 기능을 설명하면 파이썬, 자바스크립트 등의 코드를 생성.\n",
       "\n",
       "요약하자면, 생성형 AI는 **학습을 통해 '배운 것'을 바탕으로 '새로운 것'을 만들어내는 인공지능**이라고 할 수 있습니다."
      ],
      "text/plain": [
       "<IPython.core.display.Markdown object>"
      ]
     },
     "metadata": {},
     "output_type": "display_data"
    }
   ],
   "source": [
    "from google import genai\n",
    "from google.genai.types import HttpOptions\n",
    "from IPython.display import Image, display, Markdown\n",
    "\n",
    "client = genai.Client(http_options=HttpOptions(api_version=\"v1\"))\n",
    "response = client.models.generate_content(\n",
    "    model=\"gemini-2.5-flash\",\n",
    "    contents=\"생성형 AI 에 대해서 간략하게 설명해주세요.\",\n",
    ")\n",
    "display(Markdown(response.text))"
   ]
  },
  {
   "cell_type": "markdown",
   "id": "de083ecb",
   "metadata": {},
   "source": [
    "#### 3.2 Image 입력"
   ]
  },
  {
   "cell_type": "code",
   "execution_count": 13,
   "id": "63318166",
   "metadata": {},
   "outputs": [
    {
     "data": {
      "text/html": [
       "<img src=\"https://storage.googleapis.com/cloud-samples-data/generative-ai/image/scones.jpg\" width=\"400\"/>"
      ],
      "text/plain": [
       "<IPython.core.display.Image object>"
      ]
     },
     "metadata": {},
     "output_type": "display_data"
    }
   ],
   "source": [
    "file_uri=\"https://storage.googleapis.com/cloud-samples-data/generative-ai/image/scones.jpg\"\n",
    "display(Image(url=file_uri, width=400))"
   ]
  },
  {
   "cell_type": "code",
   "execution_count": 14,
   "id": "be911e9a",
   "metadata": {},
   "outputs": [
    {
     "data": {
      "text/markdown": [
       "이 이미지는 블루베리 스콘, 음료, 신선한 과일, 그리고 꽃이 어우러져 편안하고 아늑한 분위기를 자아내는 정물 사진입니다.\n",
       "\n",
       "주요 내용은 다음과 같습니다:\n",
       "\n",
       "1.  **블루베리 스콘**: 사진 중앙에는 하얀색 유산지 위에 갓 구운 듯한 블루베리 스콘 여러 개(대략 6개)가 놓여 있습니다. 스콘은 둥근 모양이며, 겉에는 설탕 가루가 뿌려져 있고, 속에는 보라색 블루베리 조각들이 박혀 있습니다. 유산지에는 스콘이나 블루베리에서 나온 듯한 보라색 자국이 자연스럽게 묻어 있습니다.\n",
       "2.  **신선한 블루베리**: 스콘 주변으로는 신선한 생블루베리 알갱이들이 흩어져 있으며, 사진 하단 왼쪽에는 작은 갈색 볼 안에 블루베리가 가득 담겨 있습니다.\n",
       "3.  **음료**: 두 잔의 음료가 보입니다.\n",
       "    *   사진 상단 왼쪽에는 진한 검은색 액체(커피로 추정)가 담긴 하얀색 머그컵이 있습니다.\n",
       "    *   사진 하단 오른쪽에는 우유가 섞인 듯한 연갈색 액체(라떼나 밀크 커피로 추정)가 담긴 또 다른 하얀색 머그컵이 놓여 있습니다.\n",
       "4.  **꽃**: 사진 오른쪽에는 연분홍색과 진한 분홍색이 섞인 풍성한 꽃잎을 가진 작약(peony) 몇 송이가 놓여 있어 화사하고 아름다운 느낌을 더합니다. 꽃에는 길고 짙은 녹색 줄기가 연결되어 있습니다.\n",
       "5.  **장식 및 소품**:\n",
       "    *   스콘 근처에는 'LET'S JAM'이라고 새겨진 독특한 디자인의 은색 숟가락이 놓여 있습니다.\n",
       "    *   작은 녹색 민트 잎 하나가 스콘 옆에 살짝 놓여 있습니다.\n",
       "6.  **배경**: 전체적으로는 어둡고 질감이 느껴지는 테이블이나 표면 위에 차려진 모습으로, 스콘과 유산지, 꽃이 대비되어 더욱 돋보입니다.\n",
       "\n",
       "전반적으로 이 이미지는 따뜻하고 달콤하며, 여유로운 아침 식사나 브런치 시간을 연상시키는 감성적인 연출을 보여줍니다."
      ],
      "text/plain": [
       "<IPython.core.display.Markdown object>"
      ]
     },
     "metadata": {},
     "output_type": "display_data"
    }
   ],
   "source": [
    "from google import genai\n",
    "from google.genai.types import HttpOptions, Part\n",
    "\n",
    "client = genai.Client(http_options=HttpOptions(api_version=\"v1\"))\n",
    "response = client.models.generate_content(\n",
    "    model=\"gemini-2.5-flash\",\n",
    "    contents=[\n",
    "        \"이미지에 보여지는 내용을 설명해주세요\",\n",
    "        Part.from_uri(\n",
    "            file_uri= file_uri,\n",
    "            mime_type=\"image/jpeg\",\n",
    "        ),\n",
    "    ],\n",
    ")\n",
    "display(Markdown(response.text))"
   ]
  }
 ],
 "metadata": {
  "kernelspec": {
   "display_name": "Python 3",
   "language": "python",
   "name": "python3"
  },
  "language_info": {
   "codemirror_mode": {
    "name": "ipython",
    "version": 3
   },
   "file_extension": ".py",
   "mimetype": "text/x-python",
   "name": "python",
   "nbconvert_exporter": "python",
   "pygments_lexer": "ipython3",
   "version": "3.13.0"
  }
 },
 "nbformat": 4,
 "nbformat_minor": 5
}
